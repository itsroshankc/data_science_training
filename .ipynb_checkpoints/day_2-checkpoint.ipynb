{
 "cells": [
  {
   "cell_type": "markdown",
   "id": "02c7cd2a-2d71-441d-8448-47c7fd3a4d79",
   "metadata": {},
   "source": [
    "# day_2"
   ]
  },
  {
   "cell_type": "markdown",
   "id": "337fa1a7-912e-4ab3-80b0-b12401e03074",
   "metadata": {},
   "source": [
    "# boooooooring lecture again"
   ]
  },
  {
   "cell_type": "code",
   "execution_count": 3,
   "id": "9e8f0b06-fbed-4466-931a-8665339902b8",
   "metadata": {},
   "outputs": [
    {
     "name": "stdin",
     "output_type": "stream",
     "text": [
      " 4\n",
      " 5\n"
     ]
    },
    {
     "name": "stdout",
     "output_type": "stream",
     "text": [
      "<function sum at 0x00000250CBB12440>\n"
     ]
    }
   ],
   "source": [
    "data1 = int(input())\n",
    "data2 = int(input())\n",
    "\n",
    "def sum(data1,data2) : return data1+data2\n",
    "\n",
    "print(sum)"
   ]
  },
  {
   "cell_type": "code",
   "execution_count": null,
   "id": "f65de383-0d1e-4627-962f-23f320b9f049",
   "metadata": {},
   "outputs": [],
   "source": []
  }
 ],
 "metadata": {
  "kernelspec": {
   "display_name": "Python 3 (ipykernel)",
   "language": "python",
   "name": "python3"
  },
  "language_info": {
   "codemirror_mode": {
    "name": "ipython",
    "version": 3
   },
   "file_extension": ".py",
   "mimetype": "text/x-python",
   "name": "python",
   "nbconvert_exporter": "python",
   "pygments_lexer": "ipython3",
   "version": "3.10.9"
  }
 },
 "nbformat": 4,
 "nbformat_minor": 5
}
