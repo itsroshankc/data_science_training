{
 "cells": [
  {
   "cell_type": "markdown",
   "id": "02c7cd2a-2d71-441d-8448-47c7fd3a4d79",
   "metadata": {},
   "source": [
    "# day_2"
   ]
  },
  {
   "cell_type": "markdown",
   "id": "337fa1a7-912e-4ab3-80b0-b12401e03074",
   "metadata": {},
   "source": [
    "# boooooooring lecture again"
   ]
  },
  {
   "cell_type": "code",
   "execution_count": null,
   "id": "9e8f0b06-fbed-4466-931a-8665339902b8",
   "metadata": {},
   "outputs": [],
   "source": []
  }
 ],
 "metadata": {
  "kernelspec": {
   "display_name": "Python 3 (ipykernel)",
   "language": "python",
   "name": "python3"
  },
  "language_info": {
   "codemirror_mode": {
    "name": "ipython",
    "version": 3
   },
   "file_extension": ".py",
   "mimetype": "text/x-python",
   "name": "python",
   "nbconvert_exporter": "python",
   "pygments_lexer": "ipython3",
   "version": "3.10.9"
  }
 },
 "nbformat": 4,
 "nbformat_minor": 5
}
