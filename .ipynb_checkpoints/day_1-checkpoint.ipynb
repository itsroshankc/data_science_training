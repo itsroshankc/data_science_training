{
 "cells": [
  {
   "cell_type": "code",
   "execution_count": 1,
   "id": "1e232f9a-6267-49dd-88e4-fa7bc117a0e9",
   "metadata": {},
   "outputs": [
    {
     "name": "stdout",
     "output_type": "stream",
     "text": [
      "Hello World\n"
     ]
    }
   ],
   "source": [
    "print(\"Hello World\")"
   ]
  },
  {
   "cell_type": "markdown",
   "id": "f3827477-e557-4fe1-82ff-a584d371425d",
   "metadata": {},
   "source": [
    "# We read only theories"
   ]
  },
  {
   "cell_type": "code",
   "execution_count": null,
   "id": "8f49e978-3d4d-4aa9-b403-adb32d5dd084",
   "metadata": {},
   "outputs": [],
   "source": []
  }
 ],
 "metadata": {
  "kernelspec": {
   "display_name": "Python 3 (ipykernel)",
   "language": "python",
   "name": "python3"
  },
  "language_info": {
   "codemirror_mode": {
    "name": "ipython",
    "version": 3
   },
   "file_extension": ".py",
   "mimetype": "text/x-python",
   "name": "python",
   "nbconvert_exporter": "python",
   "pygments_lexer": "ipython3",
   "version": "3.10.9"
  }
 },
 "nbformat": 4,
 "nbformat_minor": 5
}
