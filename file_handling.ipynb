{
 "cells": [
  {
   "cell_type": "markdown",
   "id": "29e8dbfc-5578-4c35-be2e-2092cba6c461",
   "metadata": {},
   "source": [
    "# day_08"
   ]
  },
  {
   "cell_type": "markdown",
   "id": "25f3ec67-c462-4e5c-8384-d7b2e58ed4a0",
   "metadata": {},
   "source": [
    "## working with os"
   ]
  },
  {
   "cell_type": "code",
   "execution_count": 1,
   "id": "8287e161-e51c-4a38-ab88-347015dec056",
   "metadata": {
    "tags": []
   },
   "outputs": [],
   "source": [
    "import os\n"
   ]
  },
  {
   "cell_type": "code",
   "execution_count": 4,
   "id": "26461e2b-c9ec-4856-b15f-86d47c25435c",
   "metadata": {
    "tags": []
   },
   "outputs": [
    {
     "data": {
      "text/plain": [
       "'C:\\\\Users\\\\Roshan KC\\\\Downloads\\\\data_science_training'"
      ]
     },
     "execution_count": 4,
     "metadata": {},
     "output_type": "execute_result"
    }
   ],
   "source": [
    "os.getcwd() # view current working directory"
   ]
  },
  {
   "cell_type": "code",
   "execution_count": 6,
   "id": "a77d108f-fc3a-4c77-bd05-4e1adf2717a8",
   "metadata": {
    "tags": []
   },
   "outputs": [
    {
     "data": {
      "text/plain": [
       "['.git',\n",
       " '.ipynb_checkpoints',\n",
       " 'day5.ipynb',\n",
       " 'day_06.ipynb',\n",
       " 'day_1.ipynb',\n",
       " 'day_2.ipynb',\n",
       " 'file_handling.ipynb',\n",
       " 'README.md']"
      ]
     },
     "execution_count": 6,
     "metadata": {},
     "output_type": "execute_result"
    }
   ],
   "source": [
    "os.listdir() # list the directory"
   ]
  },
  {
   "cell_type": "code",
   "execution_count": 15,
   "id": "b904c81f-db67-4065-beb1-c2521b416e85",
   "metadata": {
    "tags": []
   },
   "outputs": [
    {
     "data": {
      "text/plain": [
       "['.git',\n",
       " '.ipynb_checkpoints',\n",
       " 'classes.ipynb',\n",
       " 'conditions_loopings.ipynb',\n",
       " 'data.csv',\n",
       " 'data.json',\n",
       " 'data_types.ipynb',\n",
       " 'demofile.txt',\n",
       " 'file_handling.ipynb',\n",
       " 'functions_and_scope.ipynb',\n",
       " 'pandas_getting_started.ipynb',\n",
       " 'README.md']"
      ]
     },
     "execution_count": 15,
     "metadata": {},
     "output_type": "execute_result"
    }
   ],
   "source": [
    "os.listdir('C:\\\\Users\\\\Roshan KC\\\\Documents\\\\6months_datascience_challange')"
   ]
  },
  {
   "cell_type": "code",
   "execution_count": 16,
   "id": "93b867c0-8694-4e88-ac6e-8725e6a4c94b",
   "metadata": {
    "tags": []
   },
   "outputs": [
    {
     "data": {
      "text/plain": [
       "['.git',\n",
       " '.ipynb_checkpoints',\n",
       " 'day5.ipynb',\n",
       " 'day_06.ipynb',\n",
       " 'day_1.ipynb',\n",
       " 'day_2.ipynb',\n",
       " 'file_handling.ipynb',\n",
       " 'README.md']"
      ]
     },
     "execution_count": 16,
     "metadata": {},
     "output_type": "execute_result"
    }
   ],
   "source": [
    "os.listdir()"
   ]
  },
  {
   "cell_type": "code",
   "execution_count": 18,
   "id": "6fab9523-6371-4bcc-9f5b-3025196187c6",
   "metadata": {
    "tags": []
   },
   "outputs": [],
   "source": [
    "file = open(\"test.txt\",\"wt\")\n",
    "file.write(\"test file will be written\")\n",
    "file.close()"
   ]
  },
  {
   "cell_type": "code",
   "execution_count": 21,
   "id": "25894cd3-eb73-4051-9979-77efaf42d213",
   "metadata": {
    "tags": []
   },
   "outputs": [],
   "source": [
    "file.close()"
   ]
  },
  {
   "cell_type": "code",
   "execution_count": 19,
   "id": "476a69ff-1767-46c7-8712-0895837f7aff",
   "metadata": {
    "tags": []
   },
   "outputs": [
    {
     "data": {
      "text/plain": [
       "['.git',\n",
       " '.ipynb_checkpoints',\n",
       " 'day5.ipynb',\n",
       " 'day_06.ipynb',\n",
       " 'day_1.ipynb',\n",
       " 'day_2.ipynb',\n",
       " 'file_handling.ipynb',\n",
       " 'README.md',\n",
       " 'test.txt']"
      ]
     },
     "execution_count": 19,
     "metadata": {},
     "output_type": "execute_result"
    }
   ],
   "source": [
    "os.listdir()"
   ]
  },
  {
   "cell_type": "code",
   "execution_count": 25,
   "id": "917517a2-a39d-4c91-a139-81b7b19823ed",
   "metadata": {
    "tags": []
   },
   "outputs": [],
   "source": [
    "# os.rename('test.txt','ren.txt')"
   ]
  },
  {
   "cell_type": "code",
   "execution_count": 26,
   "id": "e2761edb-9b38-4c89-9b35-25eaf5c609bd",
   "metadata": {
    "tags": []
   },
   "outputs": [],
   "source": [
    "os.mkdir('hello')"
   ]
  },
  {
   "cell_type": "code",
   "execution_count": 27,
   "id": "691461b1-5296-4357-97ab-c34233046c9d",
   "metadata": {
    "tags": []
   },
   "outputs": [],
   "source": [
    "os.rename('hello','bye')"
   ]
  },
  {
   "cell_type": "code",
   "execution_count": 28,
   "id": "24f3b750-18b0-4276-af3d-bf8f0a8fe4af",
   "metadata": {
    "tags": []
   },
   "outputs": [
    {
     "data": {
      "text/plain": [
       "['.git',\n",
       " '.ipynb_checkpoints',\n",
       " 'bye',\n",
       " 'day5.ipynb',\n",
       " 'day_06.ipynb',\n",
       " 'day_1.ipynb',\n",
       " 'day_2.ipynb',\n",
       " 'file_handling.ipynb',\n",
       " 'README.md',\n",
       " 'test.txt']"
      ]
     },
     "execution_count": 28,
     "metadata": {},
     "output_type": "execute_result"
    }
   ],
   "source": [
    "os.listdir()"
   ]
  },
  {
   "cell_type": "markdown",
   "id": "028a789e-e8ec-44d6-8cd2-f09285aa4872",
   "metadata": {
    "tags": []
   },
   "source": [
    "#### if you want to rename folder in other directories you need to specify full address form root directory"
   ]
  },
  {
   "cell_type": "code",
   "execution_count": 30,
   "id": "56d4c03e-6f4b-495d-bc40-543baa16f952",
   "metadata": {
    "tags": []
   },
   "outputs": [],
   "source": [
    "os.rmdir('bye') # deletes the specific folder nameing 'bye'"
   ]
  },
  {
   "cell_type": "code",
   "execution_count": 31,
   "id": "d19ababd-dc51-4731-af14-bf0f5fa1efe5",
   "metadata": {
    "tags": []
   },
   "outputs": [
    {
     "name": "stdout",
     "output_type": "stream",
     "text": [
      "file not found\n"
     ]
    }
   ],
   "source": [
    "if os.path.exists(\"temp.txt\"):\n",
    "    os.remove(\"temp.txt\")\n",
    "    print(\"file deleted successfully\")\n",
    "else:\n",
    "    print(\"file not found\")"
   ]
  },
  {
   "cell_type": "code",
   "execution_count": 32,
   "id": "160a0b64-d9b1-452d-8b7f-71cb502f8c98",
   "metadata": {
    "tags": []
   },
   "outputs": [
    {
     "data": {
      "text/plain": [
       "11"
      ]
     },
     "execution_count": 32,
     "metadata": {},
     "output_type": "execute_result"
    }
   ],
   "source": [
    "file = open('hello.txt','wt')\n",
    "\n",
    "file.write('hello world')\n"
   ]
  },
  {
   "cell_type": "code",
   "execution_count": 33,
   "id": "87dc29bf-4fac-4405-a15d-024bd104d180",
   "metadata": {
    "tags": []
   },
   "outputs": [],
   "source": [
    "file.close()"
   ]
  },
  {
   "cell_type": "code",
   "execution_count": 35,
   "id": "b11ce1b6-bbd6-4047-a7a3-8093e728d821",
   "metadata": {
    "tags": []
   },
   "outputs": [
    {
     "data": {
      "text/plain": [
       "['.git',\n",
       " '.ipynb_checkpoints',\n",
       " 'day5.ipynb',\n",
       " 'day_06.ipynb',\n",
       " 'day_1.ipynb',\n",
       " 'day_2.ipynb',\n",
       " 'file_handling.ipynb',\n",
       " 'hello.txt',\n",
       " 'README.md',\n",
       " 'test.txt']"
      ]
     },
     "execution_count": 35,
     "metadata": {},
     "output_type": "execute_result"
    }
   ],
   "source": [
    "os.listdir()"
   ]
  },
  {
   "cell_type": "code",
   "execution_count": 36,
   "id": "2a6c6cf5-e389-454c-9c31-205aee596f16",
   "metadata": {
    "tags": []
   },
   "outputs": [
    {
     "name": "stdout",
     "output_type": "stream",
     "text": [
      "file found\n",
      "file deleted successfully!\n"
     ]
    }
   ],
   "source": [
    "if os.path.exists('hello.txt'):\n",
    "    print('file found')\n",
    "    os.remove('hello.txt')\n",
    "    print('file deleted successfully!')\n",
    "else:\n",
    "    print('file not found')"
   ]
  },
  {
   "cell_type": "code",
   "execution_count": 41,
   "id": "faa4dd62-61d9-4096-a5d9-7dbdf5c1ea7e",
   "metadata": {
    "tags": []
   },
   "outputs": [
    {
     "name": "stdout",
     "output_type": "stream",
     "text": [
      "test file will be written\n"
     ]
    }
   ],
   "source": [
    "file = open('test.txt')\n",
    "for x in file:\n",
    "    print(x)\n",
    "file.close()"
   ]
  },
  {
   "cell_type": "code",
   "execution_count": 45,
   "id": "f5cd13d6-3880-41f3-bb5f-5329f3d0d8e3",
   "metadata": {
    "tags": []
   },
   "outputs": [
    {
     "data": {
      "text/plain": [
       "['.git',\n",
       " '.ipynb_checkpoints',\n",
       " 'day5.ipynb',\n",
       " 'day_06.ipynb',\n",
       " 'day_1.ipynb',\n",
       " 'day_2.ipynb',\n",
       " 'file_handling.ipynb',\n",
       " 'README.md',\n",
       " 'results',\n",
       " 'test.txt']"
      ]
     },
     "execution_count": 45,
     "metadata": {},
     "output_type": "execute_result"
    }
   ],
   "source": [
    "os.listdir()"
   ]
  },
  {
   "cell_type": "code",
   "execution_count": 46,
   "id": "8e4ac7f4-4958-4ecd-8e96-9ff27e1de4ec",
   "metadata": {
    "tags": []
   },
   "outputs": [
    {
     "name": "stdout",
     "output_type": "stream",
     "text": [
      "Folder found\n",
      "folder deleted!\n"
     ]
    }
   ],
   "source": [
    "if os.path.exists('results'):\n",
    "    print(\"Folder found\")\n",
    "    os.rmdir('results')\n",
    "    print('folder deleted!')\n",
    "else:\n",
    "    print(\"Folder not found\")\n",
    "    os.mkdir('results')\n",
    "    print('folder created successfully')"
   ]
  },
  {
   "cell_type": "code",
   "execution_count": null,
   "id": "c35dc804-4897-4b15-955c-6c1511015fb0",
   "metadata": {},
   "outputs": [],
   "source": []
  },
  {
   "cell_type": "code",
   "execution_count": null,
   "id": "f66c521f-a168-4f6f-b2dd-62f8b4ef553b",
   "metadata": {},
   "outputs": [],
   "source": []
  },
  {
   "cell_type": "markdown",
   "id": "d8b8c4f8-5b4b-48eb-82ef-0ba227b5f04d",
   "metadata": {},
   "source": [
    "# absolute path v/s relative path"
   ]
  },
  {
   "cell_type": "markdown",
   "id": "43810402-9107-46bb-97a1-4fed3748cd99",
   "metadata": {},
   "source": [
    "#### absolute path is the root path\n",
    "#### relative path is relative from a nearby path"
   ]
  },
  {
   "cell_type": "code",
   "execution_count": null,
   "id": "efd88083-376f-42bb-bafb-f72d86025751",
   "metadata": {
    "tags": []
   },
   "outputs": [],
   "source": []
  },
  {
   "cell_type": "code",
   "execution_count": 48,
   "id": "21368154-03fb-4aae-8eaa-603625540e86",
   "metadata": {
    "tags": []
   },
   "outputs": [
    {
     "data": {
      "text/plain": [
       "'C:\\\\Users\\\\Roshan KC\\\\Downloads\\\\data_science_training'"
      ]
     },
     "execution_count": 48,
     "metadata": {},
     "output_type": "execute_result"
    }
   ],
   "source": [
    "os.getcwd()"
   ]
  },
  {
   "cell_type": "markdown",
   "id": "9bc4a71e-0f76-4e0c-9131-fdd54faead01",
   "metadata": {},
   "source": [
    "### absolute path"
   ]
  },
  {
   "cell_type": "code",
   "execution_count": 49,
   "id": "09caf57c-9f82-411f-a209-b7c5379ece83",
   "metadata": {
    "tags": []
   },
   "outputs": [
    {
     "data": {
      "text/plain": [
       "'C:\\\\Users\\\\Roshan KC\\\\Downloads\\\\data_science_training\\\\test.txt'"
      ]
     },
     "execution_count": 49,
     "metadata": {},
     "output_type": "execute_result"
    }
   ],
   "source": [
    "os.path.abspath('test.txt') # for a file test.txt"
   ]
  },
  {
   "cell_type": "markdown",
   "id": "607cc8ed-a84d-4de5-9306-12cee2118928",
   "metadata": {},
   "source": [
    "#### here we are showing path form root directory to visit \"test.txt\"\n",
    "\n",
    "same as if i was telling one of my friend in bitwal to visit my college , teti bela full address dina ill use abspath()"
   ]
  },
  {
   "cell_type": "markdown",
   "id": "f0eca2ff-fe78-4280-a775-04fd7e6be6b7",
   "metadata": {},
   "source": [
    "### relative path"
   ]
  },
  {
   "cell_type": "code",
   "execution_count": 50,
   "id": "fedd1419-3c1f-47d1-93e8-1a5d5ea5f6ea",
   "metadata": {
    "tags": []
   },
   "outputs": [
    {
     "data": {
      "text/plain": [
       "'..\\\\..\\\\..'"
      ]
     },
     "execution_count": 50,
     "metadata": {},
     "output_type": "execute_result"
    }
   ],
   "source": [
    "os.path.relpath('C:\\\\Users\\\\Roshan KC','C:\\\\Users\\\\Roshan KC\\\\Downloads\\\\data_science_training\\\\test.txt')"
   ]
  },
  {
   "cell_type": "markdown",
   "id": "26745a73-221f-4102-9f6f-27a16b4916aa",
   "metadata": {},
   "source": [
    "#### here we are showing how to show address for one relativ path to another relpath(path,start)"
   ]
  },
  {
   "cell_type": "markdown",
   "id": "69099287-51c7-466b-acd1-d5473d6aef96",
   "metadata": {},
   "source": [
    "## shutil library"
   ]
  },
  {
   "cell_type": "code",
   "execution_count": 53,
   "id": "3e42b434-785f-44be-8332-5aaa09261a57",
   "metadata": {
    "tags": []
   },
   "outputs": [],
   "source": [
    "import shutil"
   ]
  },
  {
   "cell_type": "code",
   "execution_count": 54,
   "id": "cbdb4161-d18b-4700-ad0c-2e5740cacf75",
   "metadata": {
    "tags": []
   },
   "outputs": [],
   "source": [
    "os.mkdir('dummy')"
   ]
  },
  {
   "cell_type": "code",
   "execution_count": 55,
   "id": "1c68f363-f8cf-46ed-9071-fd79fc011db3",
   "metadata": {
    "tags": []
   },
   "outputs": [
    {
     "data": {
      "text/plain": [
       "'dummy/test.txt'"
      ]
     },
     "execution_count": 55,
     "metadata": {},
     "output_type": "execute_result"
    }
   ],
   "source": [
    "shutil.copy('test.txt','dummy/test.txt')"
   ]
  },
  {
   "cell_type": "markdown",
   "id": "f8382c52-bb37-4a3f-b66d-2f2c69060a8e",
   "metadata": {
    "tags": []
   },
   "source": [
    "### copying all files form one folder to another directory and we dont need to make new folder by ourself"
   ]
  },
  {
   "cell_type": "code",
   "execution_count": 57,
   "id": "cfb283ab-5235-4a26-9820-68e86d7ef6bd",
   "metadata": {
    "tags": []
   },
   "outputs": [
    {
     "data": {
      "text/plain": [
       "'another_dummy'"
      ]
     },
     "execution_count": 57,
     "metadata": {},
     "output_type": "execute_result"
    }
   ],
   "source": [
    "shutil.copytree('dummy','another_dummy')"
   ]
  },
  {
   "cell_type": "code",
   "execution_count": 59,
   "id": "8c1f5abf-16cc-436f-af2b-eaf2d4a3546f",
   "metadata": {
    "tags": []
   },
   "outputs": [
    {
     "data": {
      "text/plain": [
       "['test - Copy (2).txt', 'test - Copy (3).txt', 'test - Copy.txt', 'test.txt']"
      ]
     },
     "execution_count": 59,
     "metadata": {},
     "output_type": "execute_result"
    }
   ],
   "source": [
    "os.listdir('another_dummy')"
   ]
  },
  {
   "cell_type": "code",
   "execution_count": null,
   "id": "28febf64-558c-4928-a8fc-0e8e872e56f5",
   "metadata": {},
   "outputs": [],
   "source": []
  },
  {
   "cell_type": "code",
   "execution_count": null,
   "id": "ecce9502-de54-4c3b-924f-70ad8c5b4d9b",
   "metadata": {},
   "outputs": [],
   "source": []
  },
  {
   "cell_type": "markdown",
   "id": "0b70d731-f106-45fe-9724-7837b43d1220",
   "metadata": {},
   "source": [
    "### file handing again"
   ]
  },
  {
   "cell_type": "code",
   "execution_count": 60,
   "id": "e5c6eaa1-715f-491a-a7eb-995d25fa4eda",
   "metadata": {
    "tags": []
   },
   "outputs": [],
   "source": [
    "file.close()"
   ]
  },
  {
   "cell_type": "code",
   "execution_count": 61,
   "id": "1684bbe5-f1c1-43b1-a2e5-88bc56aa07d5",
   "metadata": {
    "tags": []
   },
   "outputs": [],
   "source": [
    "file = open('hello.txt','wt')\n",
    "file.write('hello its me roshan, learning ds')\n",
    "file.close()"
   ]
  },
  {
   "cell_type": "code",
   "execution_count": null,
   "id": "67df7a01-2328-405f-8285-3db04ae42cb6",
   "metadata": {},
   "outputs": [],
   "source": []
  },
  {
   "cell_type": "code",
   "execution_count": null,
   "id": "ac678df3-9ac8-44f9-9acf-44c543d32f07",
   "metadata": {},
   "outputs": [],
   "source": []
  },
  {
   "cell_type": "code",
   "execution_count": 66,
   "id": "ae0c3d55-ddaf-48d6-a11a-87b97ccbe17d",
   "metadata": {
    "tags": []
   },
   "outputs": [
    {
     "data": {
      "text/plain": [
       "'hello its me roshan, learning ds'"
      ]
     },
     "execution_count": 66,
     "metadata": {},
     "output_type": "execute_result"
    }
   ],
   "source": [
    "file = open('hello.txt')\n",
    "# file.readline() # read single line\n",
    "# file.readlines() # reads line by line and seperate using comma ,making each lines a new list\n",
    "file.read()"
   ]
  },
  {
   "cell_type": "code",
   "execution_count": 68,
   "id": "812ec445-2868-493f-9a11-b64e7bc9cc04",
   "metadata": {
    "tags": []
   },
   "outputs": [
    {
     "name": "stdout",
     "output_type": "stream",
     "text": [
      "hello its me roshan, learning ds\n"
     ]
    }
   ],
   "source": [
    "file = open('hello.txt')\n",
    "\n",
    "for x in file:\n",
    "    print(x)"
   ]
  },
  {
   "cell_type": "code",
   "execution_count": 71,
   "id": "07a51ebd-44c9-4a4f-9d0c-9e358eb6c557",
   "metadata": {
    "tags": []
   },
   "outputs": [],
   "source": [
    "file.close()"
   ]
  },
  {
   "cell_type": "code",
   "execution_count": 77,
   "id": "97e456bf-bbf2-4a89-b32d-99f91852ded0",
   "metadata": {
    "tags": []
   },
   "outputs": [],
   "source": [
    "file = open('lumbini.txt','wt')\n",
    "file.write('hello welcome to lcc')\n",
    "file.write('\\n')\n",
    "file.write('we are valorant')\n",
    "file.close()"
   ]
  },
  {
   "cell_type": "code",
   "execution_count": 80,
   "id": "b9c1b982-49c4-4230-a054-e4867acf43b1",
   "metadata": {
    "tags": []
   },
   "outputs": [],
   "source": [
    "file.close()"
   ]
  },
  {
   "cell_type": "code",
   "execution_count": 87,
   "id": "69795c27-fe2a-4601-abf4-6cd694751c11",
   "metadata": {
    "tags": []
   },
   "outputs": [
    {
     "data": {
      "text/plain": [
       "['hello welcome to lcc\\n', 'we are valorant']"
      ]
     },
     "execution_count": 87,
     "metadata": {},
     "output_type": "execute_result"
    }
   ],
   "source": [
    "f = open('lumbini.txt')\n",
    "f.readlines()"
   ]
  },
  {
   "cell_type": "code",
   "execution_count": 88,
   "id": "358853eb-0765-4161-a6e6-f0e762734902",
   "metadata": {
    "tags": []
   },
   "outputs": [],
   "source": [
    "f.close()"
   ]
  },
  {
   "cell_type": "code",
   "execution_count": 90,
   "id": "e1a27e0b-3912-49e6-a2e1-042e6dce19fb",
   "metadata": {
    "tags": []
   },
   "outputs": [
    {
     "data": {
      "text/plain": [
       "23"
      ]
     },
     "execution_count": 90,
     "metadata": {},
     "output_type": "execute_result"
    }
   ],
   "source": [
    "f = open('lumbini.txt','at')\n",
    "f.write('\\n')\n",
    "f.write('some new features had been added \\n')\n",
    "f.write('and i am the newly line')\n"
   ]
  },
  {
   "cell_type": "code",
   "execution_count": 91,
   "id": "b8bc76e9-df11-4f9c-a6a6-dacc75990d3e",
   "metadata": {
    "tags": []
   },
   "outputs": [],
   "source": [
    "f.close()"
   ]
  },
  {
   "cell_type": "code",
   "execution_count": 92,
   "id": "f8d1ac20-965d-46e7-8a65-a42b5e9280a8",
   "metadata": {
    "tags": []
   },
   "outputs": [
    {
     "name": "stdout",
     "output_type": "stream",
     "text": [
      "hello welcome to lcc\n",
      "\n",
      "we are valorant\n",
      "\n",
      "some new features had been added \n",
      "\n",
      "and i am the newly line\n"
     ]
    }
   ],
   "source": [
    "file = open('lumbini.txt')\n",
    "\n",
    "for x in file:\n",
    "    print(x)"
   ]
  },
  {
   "cell_type": "code",
   "execution_count": 93,
   "id": "36f800e5-59ce-4cf8-8374-6c9e87887c2c",
   "metadata": {
    "tags": []
   },
   "outputs": [],
   "source": [
    "file.close()"
   ]
  },
  {
   "cell_type": "markdown",
   "id": "fe32813a-7d55-4cab-b0d5-5447d0fae1b5",
   "metadata": {},
   "source": [
    "# done for today"
   ]
  }
 ],
 "metadata": {
  "kernelspec": {
   "display_name": "Python 3 (ipykernel)",
   "language": "python",
   "name": "python3"
  },
  "language_info": {
   "codemirror_mode": {
    "name": "ipython",
    "version": 3
   },
   "file_extension": ".py",
   "mimetype": "text/x-python",
   "name": "python",
   "nbconvert_exporter": "python",
   "pygments_lexer": "ipython3",
   "version": "3.10.9"
  }
 },
 "nbformat": 4,
 "nbformat_minor": 5
}
