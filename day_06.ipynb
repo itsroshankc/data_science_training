{
 "cells": [
  {
   "cell_type": "markdown",
   "id": "6b71ae99-5a9d-492e-a742-7dc2199e73fc",
   "metadata": {
    "tags": []
   },
   "source": [
    "# working on python dictionaries"
   ]
  },
  {
   "cell_type": "code",
   "execution_count": 6,
   "id": "5f66d537-ee13-4b0c-a256-d57d3d9304cc",
   "metadata": {},
   "outputs": [
    {
     "name": "stdout",
     "output_type": "stream",
     "text": [
      "apple : 2\n",
      "ball : 2\n",
      "cat : 1\n",
      "mango : 1\n"
     ]
    }
   ],
   "source": [
    "fruits = [\"apple\",\"ball\",\"apple\",\"ball\",\"cat\",\"mango\"]\n",
    "\n",
    "my_dict = {\n",
    "    'apple':0,\n",
    "    'ball':0,\n",
    "    'cat':0,\n",
    "    'mango':0,\n",
    "}\n",
    "# print(mylist)\n",
    "\n",
    "for x in fruits :\n",
    "    if x == \"apple\":\n",
    "        my_dict['apple']+=1\n",
    "    elif x == \"ball\":\n",
    "        my_dict['ball']+=1\n",
    "    elif x == \"cat\":\n",
    "        my_dict['cat']+=1\n",
    "    else:\n",
    "        my_dict['mango']+=1\n",
    "\n",
    "for x in my_dict:\n",
    "    print(x,\":\",my_dict[x])"
   ]
  },
  {
   "cell_type": "code",
   "execution_count": null,
   "id": "f0ecc8b2-c27a-4e81-85d0-183ac824adf3",
   "metadata": {},
   "outputs": [],
   "source": []
  },
  {
   "cell_type": "code",
   "execution_count": null,
   "id": "33eb0071-9420-4191-9800-92172d54b26c",
   "metadata": {},
   "outputs": [],
   "source": []
  },
  {
   "cell_type": "code",
   "execution_count": null,
   "id": "d1839541-a623-4e6e-b632-64abde6fd286",
   "metadata": {},
   "outputs": [],
   "source": []
  },
  {
   "cell_type": "markdown",
   "id": "a2711c36-8366-4271-a7de-71678ba59420",
   "metadata": {},
   "source": [
    "## suppose we have a lot of data millios of data , here we won't know kun kun data xa and kati ota xa so we do like this."
   ]
  },
  {
   "cell_type": "code",
   "execution_count": 7,
   "id": "1dab8f6e-d825-4d3b-97b9-a1039cb1061e",
   "metadata": {
    "tags": []
   },
   "outputs": [],
   "source": [
    "list1 = [1,2,3,1,4,5,1,2,3,4,1,5,5,6,7,3,4,2,5,6,2,6,2,5,6,2,6,7,2,1,1,2,3,4,5,6,5,4,3,2,6,1,6,7,1,3,6,7,3,1]"
   ]
  },
  {
   "cell_type": "code",
   "execution_count": 20,
   "id": "f0e2207f-da6d-43ee-8ee9-ae50e6458c28",
   "metadata": {
    "tags": []
   },
   "outputs": [],
   "source": [
    "storage = {}\n",
    "for x in list1:\n",
    "    if x not in storage:\n",
    "        storage[x]=1\n",
    "    else:\n",
    "        storage[x]+=1"
   ]
  },
  {
   "cell_type": "code",
   "execution_count": 21,
   "id": "8c98d5a5-6014-45b1-9708-ddffdf36980a",
   "metadata": {
    "tags": []
   },
   "outputs": [
    {
     "name": "stdout",
     "output_type": "stream",
     "text": [
      "{1: 9, 2: 9, 3: 7, 4: 5, 5: 7, 6: 9, 7: 4}\n"
     ]
    }
   ],
   "source": [
    "print(storage)"
   ]
  },
  {
   "cell_type": "code",
   "execution_count": null,
   "id": "80190fb3-aa99-4067-8e5d-5bff42103235",
   "metadata": {},
   "outputs": [],
   "source": []
  },
  {
   "cell_type": "code",
   "execution_count": null,
   "id": "2899dd70-7499-4c6a-a0ef-9c765e0f6083",
   "metadata": {},
   "outputs": [],
   "source": []
  },
  {
   "cell_type": "code",
   "execution_count": null,
   "id": "f1de9e0d-1f82-4e13-ada5-1dac6315d5a5",
   "metadata": {},
   "outputs": [],
   "source": []
  }
 ],
 "metadata": {
  "kernelspec": {
   "display_name": "Python 3 (ipykernel)",
   "language": "python",
   "name": "python3"
  },
  "language_info": {
   "codemirror_mode": {
    "name": "ipython",
    "version": 3
   },
   "file_extension": ".py",
   "mimetype": "text/x-python",
   "name": "python",
   "nbconvert_exporter": "python",
   "pygments_lexer": "ipython3",
   "version": "3.10.9"
  }
 },
 "nbformat": 4,
 "nbformat_minor": 5
}
